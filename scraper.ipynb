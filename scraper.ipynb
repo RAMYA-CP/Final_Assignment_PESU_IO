{
 "cells": [
  {
   "cell_type": "code",
   "execution_count": 1,
   "metadata": {},
   "outputs": [],
   "source": [
    "import bs4 as bs\n",
    "import lxml\n",
    "import urllib.request\n",
    "import csv\n",
    "import requests"
   ]
  },
  {
   "cell_type": "code",
   "execution_count": 2,
   "metadata": {},
   "outputs": [],
   "source": [
    "sauce=urllib.request.urlopen(\"https://karki23.github.io/Weather-Data/assignment.html\")\n",
    "srccode=bs.BeautifulSoup(sauce,'lxml')"
   ]
  },
  {
   "cell_type": "code",
   "execution_count": 11,
   "metadata": {},
   "outputs": [],
   "source": [
    "def scrape_table(i):\n",
    "    delicious=urllib.request.urlopen(\"https://karki23.github.io/Weather-Data/\"+i).read()\n",
    "    sr=bs.BeautifulSoup(delicious,'lxml')\n",
    "    table=sr.find_all('table')\n",
    "    with open(\"weather_dataset.csv\",\"a+\") as f:\n",
    "        for row in table:\n",
    "            row_count=0\n",
    "            t=0\n",
    "            for i in row.find_all(['td','th']):\n",
    "                t+=1\n",
    "                if(t>24):\n",
    "                    f.write(i.text+',')\n",
    "                    row_count+=1 \n",
    "                if(row_count==24):\n",
    "                    f.write('\\n')\n",
    "                    row_count=0"
   ]
  },
  {
   "cell_type": "code",
   "execution_count": 12,
   "metadata": {},
   "outputs": [],
   "source": [
    "for i in srccode.find_all('a'):\n",
    "        scrape_table(i.get('href'))"
   ]
  }
 ],
 "metadata": {
  "kernelspec": {
   "display_name": "Python 3",
   "language": "python",
   "name": "python3"
  },
  "language_info": {
   "codemirror_mode": {
    "name": "ipython",
    "version": 3
   },
   "file_extension": ".py",
   "mimetype": "text/x-python",
   "name": "python",
   "nbconvert_exporter": "python",
   "pygments_lexer": "ipython3",
   "version": "3.6.5"
  }
 },
 "nbformat": 4,
 "nbformat_minor": 2
}
